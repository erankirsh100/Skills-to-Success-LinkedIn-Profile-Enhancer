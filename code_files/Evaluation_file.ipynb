{
  "cells": [
    {
      "cell_type": "code",
      "execution_count": 1,
      "metadata": {
        "id": "XyDxwi3wi3JV"
      },
      "outputs": [],
      "source": [
        "import pandas as pd\n",
        "import re\n",
        "import google.generativeai as genai\n",
        "import os\n",
        "import time\n",
        "from scipy.stats import wilcoxon\n",
        "import numpy as np"
      ]
    },
    {
      "cell_type": "markdown",
      "metadata": {
        "id": "1Upp2Z2XhDlH"
      },
      "source": [
        "**Promts:**"
      ]
    },
    {
      "cell_type": "code",
      "execution_count": 2,
      "metadata": {
        "id": "ojgDmSQPg78v"
      },
      "outputs": [],
      "source": [
        "def simple_promt_creating_geminai_no_skills(input):\n",
        "  promt = f\"\"\"\n",
        "  given this infomation\n",
        "\n",
        "  {input}\n",
        "\n",
        "  create a linkedin profile about section\n",
        "\n",
        "  ### Instructions for AI:\n",
        "  the about section will be a after the re pattern = r'\\*\\*Step (4|5): Improved \"About\" Section\\*\\*\\n\\n(.*?)$' so have the title before you start the about and dont write anything else.\n",
        "  \"\"\"\n",
        "  return promt\n",
        "\n",
        "def promt_creating_geminai_no_skills(input):\n",
        "  promt = f\"\"\"\n",
        "  ### Mission:\n",
        "  Create a LinkedIn \"About\" section that highlights an individual’s strengths, professional background, experience, and career goals. The section should be written in a way that can be directly copied and pasted into LinkedIn, and it should accurately reflect the applicant’s experiences, skills, and aspirations. **Do not include any placeholders** or hypothetical statements like “this is a hypothetical example.” All the information presented in the \"About\" section must be factual and relevant, based on the provided input.\n",
        "\n",
        "  ### Input Data:\n",
        "\n",
        "  {input}\n",
        "\n",
        "  ### Instructions for AI:\n",
        "\n",
        "  #### **Step 1: Present the Strong Attributes of the Applicant**\n",
        "  - Based on the provided input, identify and present the strongest attributes of the applicant. Focus on their professional background, work experience, and skills that would make them a strong candidate for relevant job opportunities. Highlight attributes such as their ability to multitask, proficiency in architectural tools, attention to detail, and strong communication skills. Be sure to focus on their potential to contribute in relevant roles (e.g., architectural design, project management).\n",
        "\n",
        "  #### **Step 2: Create the Full \"About\" Section**\n",
        "  - Based on the background, work experience, and professional goals, create a complete and fully formed \"About\" section that is ready for direct use on LinkedIn. **Do not leave any placeholders** or areas for the applicant to fill in later. The section should accurately reflect the individual’s professional journey, emphasizing their experience, skills, and aspirations. Write the section in a way that sounds natural and engaging, with a clear narrative. The content should be concise, professional, and easily digestible for recruiters, with no hypothetical statements or generalizations.\n",
        "\n",
        "  #### **Step 3: Assess the \"About\" Section Critically**\n",
        "  - After creating the \"About\" section, critically evaluate it based on the following criteria:\n",
        "    - **Uniqueness:** Is the \"About\" section personalized and distinctive, reflecting the applicant’s unique career trajectory and strengths?\n",
        "    - **Content:** Does the section provide a clear overview of the individual’s background, experience, and professional goals? Does it avoid irrelevant details, and is it concise without sacrificing important information?\n",
        "    - **Recruiter Appeal:** Would a recruiter be drawn to this section for relevant job opportunities? Does it stand out among other profiles? Is it compelling enough to encourage the reader to explore the applicant’s full profile?\n",
        "    - **Engagement and Tone:** Does the section have an engaging and approachable tone? Is it professional, yet personable? Does it convey the applicant’s potential as a strong fit for roles in their field?\n",
        "    - Provide a grade (e.g., 1-10) and a detailed critique based on these criteria. Be thorough in your feedback, pointing out any areas for improvement, such as overly generic language or unclear phrasing.\n",
        "\n",
        "  #### **Step 4: Create an Improved \"About\" Section**\n",
        "  - Based on the self-assessment and critique in Step 3, refine the \"About\" section to make it even stronger. Address any weaknesses identified in the review, ensuring the final version is polished and optimized for recruiter engagement. Ensure that the section remains fully factual, concise, and tailored to the individual’s background and career aspirations.\n",
        "\n",
        "  **Important:**preform all of the Steps and After completing the second \"About\" section in Step 4, **do not write anything else**. The \"About\" section will be extracted and reviewed later, and we do not want any additional or unrelated content to be included. Please stop writing once you've provided the improved \"About\" section.\n",
        "\n",
        "  - The final \"About\" section should be clear, accurate, and ready for direct use on LinkedIn. It should be factual, avoiding hypothetical statements or placeholders. The section should clearly highlight the applicant’s strengths, background, experience, and career aspirations in a way that will attract recruiters and make the applicant stand out.  and do not use the words 'highly' something at the start of the about section\n",
        "  **Important:**preform all of the Steps and After completing the second \"About\" section in Step 4, **do not write anything else**. The \"About\" section will be extracted and reviewed later, and we do not want any additional or unrelated content to be included. Please stop writing once you've provided the improved \"About\" section.\n",
        "  \"\"\"\n",
        "  return promt\n",
        "\n",
        "\n",
        "def promt_creating_geminai_with_skills(input, skills, Requirements, tools):\n",
        "  promt = f\"\"\"\n",
        "  ### Mission:\n",
        "  Generate a compelling LinkedIn \"About\" section that highlights an individual’s strengths, professional background, skills, and career goals. The section should be tailored to attract recruiters for relevant job opportunities, using the input provided. The narrative should flow naturally, be engaging, and be easy to read for recruiters.\n",
        "\n",
        "  ### Example of a Well-Written About Section:\n",
        "  \"As the EVP for Business Development at Science House and founder of Power Pairs, I bridge the gap between strategy and execution, driving organizational success with clarity and innovation. Over 12 years in this role, I’ve collaborated with clients across a diverse range of industries, including four of Forbes’ most admired companies. As the creator of the Imagination Age framework, I guide businesses in navigating the transition from the Industrial to Intelligence Era, emphasizing the importance of AI as Applied Imagination. My passion lies in helping leaders unlock their creative potential to thrive in an ever-evolving world, where soft skills remain indispensable.\"\n",
        "\n",
        "  ### Input Data:\n",
        "  {input}\n",
        "\n",
        "  ### additional information:\n",
        "\n",
        "      - *Skills:* {skills}\n",
        "\n",
        "      - *Requirements:* {Requirements}\n",
        "\n",
        "      - *Tools:* {tools}\n",
        "\n",
        "  ### Instructions for AI:\n",
        "\n",
        "  #### *Step 1: Present the Strong Attributes of the Applicant*\n",
        "  - Based on the provided input, identify and present the strongest attributes of the applicant. Focus on their professional background, work experience, and skills that would make them a strong candidate for relevant job opportunities. Highlight qualities that are attractive to recruiters, such as the ability to handle multiple tasks, proficiency in relevant tools, and experience in a fast-paced environment. Consider what types of roles the applicant might pursue based on this background (e.g., architectural design, project management).\n",
        "\n",
        "\n",
        "  #### *Step 2: Align Skills with Background*\n",
        "  - Review and present the skills, tools, and requirements provided. Align these elements with the individual’s experience and background, ensuring that only relevant skills and tools are incorporated into the \"About\" section. For example, if the individual’s role involved using specific tools like 'AutoCAD' or 'REVIT,' emphasize these tools, while excluding irrelevant skills or tools that do not pertain to the individual's field. For instance, tools like 'JavaScript' and 'HTML5' would likely not be relevant for a role focused on architectural design unless the individual has a specific web development background.\n",
        "\n",
        "\n",
        "  #### *Step 3: Create the \"About\" Section*\n",
        "  - Based on the skills, background, and requirements, craft a concise, tailored \"About\" section. Ensure that the section presents the applicant’s skills, experience, and goals clearly, and aligns with the kind of job opportunities they would be seeking. Integrate key strengths and make the section stand out by highlighting unique qualities that would catch the eye of recruiters. Avoid overly generic language or overused buzzwords. Focus on what makes the individual unique and why they would be a valuable asset in the relevant industry.\n",
        "\n",
        "\n",
        "  #### *Step 4: Assess the \"About\" Section Critically*\n",
        "  - After creating the \"About\" section, be highly critical of the work. Evaluate it based on the following criteria:\n",
        "\n",
        "    - *Uniqueness:* Is the \"About\" section personalized and distinctive, reflecting the applicant’s unique career trajectory and strengths?\n",
        "\n",
        "    - *Content:* Does the section cover all the important aspects (e.g., background, skills, experience, and goals) in a clear and concise manner? Are there any unnecessary or irrelevant details? Is there any room for improvement in terms of clarity or flow?\n",
        "\n",
        "    - *Recruiter Appeal:* Would a recruiter be drawn to this section for relevant job opportunities? Does it stand out among other profiles? Is it attention-grabbing enough to make the reader want to know more?\n",
        "\n",
        "    - *Engagement and Tone:* Does the \"About\" section have an engaging tone? Is it approachable, yet professional? Does it clearly reflect the candidate's personality and potential as a strong hire?\n",
        "\n",
        "    - Provide a grade (e.g., 1-10) and a detailed critique based on these criteria. Be thorough in your feedback, pointing out areas that need improvement, such as overused language, lack of specificity, or anything that could be enhanced.\n",
        "\n",
        "  #### *Step 5: Create an Improved \"About\" Section*\n",
        "  - Based on the self-assessment and critique in Step 4, refine the \"About\" section to address the weaknesses and enhance its effectiveness. Apply the feedback to make the section even stronger, ensuring it is unique, well-structured, and appealing to recruiters. Prioritize clarity, conciseness, and uniqueness, and ensure that the final \"About\" section will effectively capture the attention of hiring managers or recruiters.\n",
        "\n",
        "  *Important:*preform all of the Steps and  After completing the second \"About\" section in Step 5, *do not write anything else*. The \"About\" section will be extracted and reviewed later, and we do not want any additional or unrelated content to be included. Please stop writing once you've provided the improved \"About\" section.\n",
        "\n",
        "  - The final \"About\" section should be clear, unique, and tailored to the individual’s background and career aspirations. It should be engaging and easy to read, presenting a strong case for why the applicant is a good fit for relevant job opportunities. The content should highlight key skills and attributes without being overly verbose, and it should stand out to recruiters. and do not use the words 'highly' something at the start of the about section\n",
        "\n",
        "  *Important:*preform all of the Steps and  After completing the second \"About\" section in Step 5, *do not write anything else*. The \"About\" section will be extracted and reviewed later, and we do not want any additional or unrelated content to be included. Please stop writing once you've provided the improved \"About\" section.\n",
        "  \"\"\"\n",
        "  return promt\n",
        "\n",
        "\n",
        "def comperehension_promt(about_1, about_2):\n",
        "  promt = f\"\"\"\n",
        "\n",
        "  ### Mission:\n",
        "  Evaluate and score two LinkedIn \"About\" sections based on their effectiveness in attracting job opportunities. A strong \"About\" section should clearly communicate the individual's background, skills, personal branding, and potential for professional growth. Both detailed and concise responses should be evaluated on equal footing, ensuring the quality of content rather than its length. The evaluation should be objective and free from any favoritism toward either style of writing. If a section does not meet the standards set in the criteria, do not hesitate to assign lower scores.\n",
        "\n",
        "\n",
        "\n",
        "  ### Evaluation Criteria:\n",
        "\n",
        "  Each category is weighted to contribute to a total score of 100 points. Your goal is to assess the quality of each \"About\" section in relation to the categories outlined below, and assign points based on how well each section performs within each category. The total points across all categories must add up to *100 points*.\n",
        "\n",
        "\n",
        "\n",
        "  ### Scoring Categories (Total: 100 Points)\n",
        "\n",
        "  1. Clarity & Professionalism (20 pts) – Does the section present the individual's background in a clear, polished, and professional manner? Does it ensure that both brief and detailed content are presented in an easy-to-understand manner?\n",
        "\n",
        "  2. Engagement (10 pts) – Does the text motivate the reader to connect or inquire further? Is it engaging and inviting? Does it appeal to potential employers or collaborators, regardless of the section's length?\n",
        "\n",
        "  3. Relevance to LinkedIn (12 pts) – Does the section position the individual well for job offers and professional opportunities? Is it tailored for LinkedIn’s networking purpose? Both concise and comprehensive approaches are valued equally if they effectively highlight professional intent.\n",
        "\n",
        "  4. Tone & Personal Branding (10 pts) – Does the tone reflect a blend of professionalism and personality? Does it reflect personal branding that appeals to potential employers, even if the section is brief or more detailed?\n",
        "\n",
        "  5. Detail & Completeness of Content (15 pts) – Does the section provide sufficient and relevant information about qualifications, skills, goals, and other aspects of the individual's professional background? Sections that are concise but complete should be rewarded equally.\n",
        "\n",
        "  6. Conciseness (8 pts) – Is the section succinct and to the point while still being informative? Does it avoid unnecessary detail but provide enough context? Both conciseness and thoroughness should be evaluated based on the quality of information provided.\n",
        "\n",
        "  7. Career Trajectory (10 pts) – Does the section provide a sense of the individual's career direction or growth potential? Does it indicate a trajectory that could appeal to employers, irrespective of the length of the description?\n",
        "\n",
        "  8. Use of Keywords (8 pts) – Does the section include relevant industry keywords that improve search visibility and increase chances of being found by recruiters? Both detailed and shorter sections should use keywords effectively for discoverability.\n",
        "\n",
        "  9. Call to Action (7 pts) – Does the section encourage potential employers, collaborators, or connections to reach out or engage further? A strong call to action is important in both brief and detailed sections.\n",
        "\n",
        "  10. Uniqueness & Differentiation (10 pts) – Does the section stand out from typical LinkedIn profiles? Does it effectively differentiate the individual from others in their field? Both types of sections should stand out in their own right based on content, tone, or personal branding.\n",
        "\n",
        "\n",
        "\n",
        "  ### Input Data:\n",
        "\n",
        "  #### About_1:\n",
        "\n",
        "  I have led strategic development and deal-making in private, public, and non-profit sectors, serving as Vice President Business Development and Corporate Strategy at Homology Medicines and former President of Women In Bio. At Homology, we completed a significant transaction for Homology, maintaining a 20% ownership in a new carve-out CDMO while also securing a $130 million upfront for the transaction. I leverage more than 25 years of experience in driving business value creation in the U.S. and Europe and have closed various types of deals with multiple biologics and gene therapy platforms. I was instrumental in launching significant programs for Women In Bio that have changed the way board level recruiting is perceived within the industry. I have a demonstrated ability to build motivated cross-functional teams to support concurrent projects within a private company that successfully went public. I believe I am known for my extensive network and my ability to rapidly build new networks. Contributions over the years have included business development, strategic alliance, program management, and government contracting within private and public companies. I also spent 10 years in research at Beth Israel/Harvard, mainly in virology (HIV) and immunology. Specialties: Strategic corporate development; Contract management; Licensing and contract negotiation; Government contracting; Rapid network expansion; Relationship management; Valuation analysis\n",
        "\n",
        "  #### About_2:\n",
        "\n",
        "  {about_1}\n",
        "\n",
        "  #### About_3:\n",
        "\n",
        "  {about_2}\n",
        "\n",
        "  ### Instructions for AI:\n",
        "\n",
        "  - Evaluate each \"About\" section on each category (listed above), and assign points based on the strengths and weaknesses of each relative to the other. Ensure to consider both concise and detailed descriptions equally, focusing on the quality and effectiveness of the content, regardless of length.\n",
        "\n",
        "  - Do not be biased or overly generous. Provide a balanced and fair evaluation, considering all abouts equaly together in each category.\n",
        "\n",
        "  - Judge all abouts equally and avoid showing any preference toward one section due to length, style, or other factors.\n",
        "\n",
        "  - Do not show favoritism to any section based on its complexity or length. The goal is to evaluate the content based on how effectively it represents the individual's professional background, goals, and potential for career growth.\n",
        "\n",
        "  - If the abouts do not meet the required quality or fail to effectively communicate the relevant details, do not hesitate to assign lower scores.\n",
        "\n",
        "  - Give the final scores for all sections at the end of your response, ensuring that the total sum of possible points for each about across all categories adds up to exactly 100 points.\n",
        "\n",
        "  - Output the final score for About_1 in the format:\n",
        "\n",
        "    About_1: final score\n",
        "\n",
        "  - Output the final score for About_2 in the format:\n",
        "\n",
        "    About_2: final score\n",
        "\n",
        "  - Output the final score for About_3 in the format:\n",
        "\n",
        "    About_3: final score\n",
        "\n",
        "  \"\"\"\n",
        "  return promt\n",
        "\n"
      ]
    },
    {
      "cell_type": "markdown",
      "metadata": {
        "id": "1r6C1TnXhhj4"
      },
      "source": [
        "**Data collection:**\n",
        "\n"
      ]
    },
    {
      "cell_type": "code",
      "execution_count": 3,
      "metadata": {
        "id": "84K3H01Vhg-z"
      },
      "outputs": [],
      "source": [
        "\n",
        "def extract_final_about(text):\n",
        "    pattern = r'\\*\\*Step (4|5): Improved \"About\" Section\\*\\*\\n\\n(.*?)$'\n",
        "    match = re.search(pattern, text, re.DOTALL)\n",
        "    return match.group(2).strip() if match else None\n",
        "\n",
        "def extract_about_3_score(text):\n",
        "    # Use regex to search for the About_1 score\n",
        "    match = re.search(r\"About_3:\\s*(\\d+)\", text)\n",
        "    if match:\n",
        "        # Extract the score and return it as an integer\n",
        "        return int(match.group(1))\n",
        "    else:\n",
        "        # If no score found, return None\n",
        "        return None\n",
        "def extract_about_1_score(text):\n",
        "    # Use regex to search for the About_1 score\n",
        "    match = re.search(r\"About_1:\\s*(\\d+)\", text)\n",
        "    if match:\n",
        "        # Extract the score and return it as an integer\n",
        "        return int(match.group(1))\n",
        "    else:\n",
        "        # If no score found, return None\n",
        "        return None\n",
        "\n",
        "def extract_about(text):\n",
        "    # Extract \"about\" that ends with a period but allows for multiple sentences\n",
        "    about = re.search(r'my about is:\\s*(.*?)(?=\\s*my city is:|$)', text, re.DOTALL)\n",
        "    return about.group(1).strip() if about else \"Not found\""
      ]
    },
    {
      "cell_type": "markdown",
      "metadata": {
        "id": "2R1rRpRlhNWS"
      },
      "source": [
        "**Evaluation function:**"
      ]
    },
    {
      "cell_type": "code",
      "execution_count": 4,
      "metadata": {
        "id": "VsJTLrY-hMrJ"
      },
      "outputs": [],
      "source": [
        "def get_table_data(df, model, def_promt_skills, def_promt_no_skills, def_comperehension_promt, use_about):\n",
        "  list_about_with_skills = []\n",
        "  list_about_no_skills = []\n",
        "  list_score_with_skills = []\n",
        "  list_score_no_skills = []\n",
        "  for index, row in df.iterrows():\n",
        "    if use_about:\n",
        "      about_no_skills = extract_about(row['summary'])\n",
        "    else:\n",
        "      about_no_skills_promt  = def_promt_no_skills(row['summary'])\n",
        "      about_no_skills = None\n",
        "      while about_no_skills is None:\n",
        "        try:\n",
        "          about_no_skills_response = model.generate_content(about_no_skills_promt,\n",
        "                                                            generation_config=genai.types.GenerationConfig(\n",
        "                                                                  temperature=1.2,\n",
        "                                                                  ))\n",
        "          about_no_skills = extract_final_about(about_no_skills_response.text)\n",
        "          time.sleep(2)\n",
        "        except Exception as e:\n",
        "          time.sleep(2)\n",
        "    list_about_no_skills.append(about_no_skills)\n",
        "\n",
        "    about_with_skills_promt  = def_promt_skills(row['summary'], row['Skills'], row['Requirements'], row['Tools'])\n",
        "    about_with_skills = None\n",
        "    while about_with_skills is None:\n",
        "      try:\n",
        "        about_with_skills_response = model.generate_content(about_with_skills_promt,\n",
        "                                                            generation_config=genai.types.GenerationConfig(\n",
        "                                                                temperature=1.2,\n",
        "                                                                ))\n",
        "        about_with_skills = extract_final_about(about_with_skills_response.text)\n",
        "      except Exception as e:\n",
        "        about_with_skills = None\n",
        "      time.sleep(2)\n",
        "    list_about_with_skills.append(about_with_skills)\n",
        "\n",
        "    about_no_skills_grade_response = None\n",
        "    while about_no_skills_grade_response is None:\n",
        "      try:\n",
        "        about_no_skills_grade_promt = def_comperehension_promt(about_with_skills, about_no_skills)\n",
        "        about_no_skills_grade_response = model.generate_content(about_no_skills_grade_promt)\n",
        "        time.sleep(2)\n",
        "      except Exception as e:\n",
        "        time.sleep(2)\n",
        "\n",
        "    score_no_skills = extract_about_3_score(about_no_skills_grade_response.text)\n",
        "    base_score_1 = extract_about_1_score(about_no_skills_grade_response.text)\n",
        "\n",
        "    about_with_skills_grade_promt = def_comperehension_promt(about_no_skills, about_with_skills)\n",
        "    about_with_skills_grade_response = None\n",
        "    while about_with_skills_grade_response is None:\n",
        "      try:\n",
        "        about_with_skills_grade_response = model.generate_content(about_with_skills_grade_promt)\n",
        "        time.sleep(2)\n",
        "      except Exception as e:\n",
        "        time.sleep(2)\n",
        "\n",
        "    score_with_skills = extract_about_3_score(about_with_skills_grade_response.text)\n",
        "    base_score_2 = extract_about_1_score(about_with_skills_grade_response.text)\n",
        "    score_no_skills =  score_no_skills * (base_score_2/base_score_1) if base_score_2 and base_score_1 else score_no_skills\n",
        "\n",
        "    list_score_with_skills.append(score_with_skills)\n",
        "    list_score_no_skills.append(score_no_skills)\n",
        "    print(f'round {index} : score with skills: {score_with_skills} score without skills {score_no_skills}')\n",
        "  avg_wins = sum([score_skills> score_no_skills for score_skills, score_no_skills in zip(list_score_with_skills, list_score_no_skills)])/len(list_score_with_skills)\n",
        "  print(f'average wins with skills: {avg_wins}')\n",
        "\n",
        "  # Perform the Wilcoxon signed-rank test\n",
        "  stat, p_value = wilcoxon(list_score_with_skills, list_score_no_skills)\n",
        "\n",
        "  # Print results\n",
        "  print(f\"Wilcoxon test statistic: {stat}\")\n",
        "  print(f\"P-value: {p_value}\")\n",
        "\n",
        "  # Interpretation\n",
        "  alpha = 0.05\n",
        "  if p_value < alpha:\n",
        "      print(\"There is a significant difference between the two lists (reject H0).\")\n",
        "  else:\n",
        "      print(\"No significant difference detected (fail to reject H0).\")\n",
        "  return list_about_with_skills, list_about_no_skills, list_score_with_skills, list_score_no_skills, avg_wins, stat, p_value"
      ]
    },
    {
      "cell_type": "code",
      "execution_count": 5,
      "metadata": {
        "id": "ZTMhCD9oiN9v"
      },
      "outputs": [],
      "source": [
        "def Evaluation(path, api, def_promt_skills, def_promt_no_skills, def_comperehension_promt, use_abouts = False):\n",
        "  # Get the filename and remove its extension\n",
        "  filename = os.path.basename(path)\n",
        "  name_without_extension, _ = os.path.splitext(filename)\n",
        "\n",
        "  # Read the CSV file into a DataFrame\n",
        "  df = pd.read_csv(path)\n",
        "\n",
        "  # Configure the API key for generative AI model\n",
        "  os.environ[\"API_KEY\"] = api\n",
        "  genai.configure(api_key=os.environ[\"API_KEY\"])\n",
        "\n",
        "  # Initialize the model\n",
        "  model = genai.GenerativeModel('gemini-1.5-flash-latest')\n",
        "\n",
        "  # Get the table data from the generative model\n",
        "  list_about_with_skills, list_about_no_skills, list_score_with_skills, list_score_no_skills, avg_wins, stat, p_value = get_table_data(\n",
        "      df, model, def_promt_skills, def_promt_no_skills, def_comperehension_promt, use_abouts)\n",
        "\n",
        "  # Prepare data to save to CSV and TXT\n",
        "  result_df = pd.DataFrame({\n",
        "      'About_with_Skills': list_about_with_skills,\n",
        "      'About_no_Skills': list_about_no_skills,\n",
        "      'Score_with_Skills': list_score_with_skills,\n",
        "      'Score_no_Skills': list_score_no_skills,\n",
        "      'Average_Wins': avg_wins,\n",
        "      'Statistics': stat,\n",
        "      'P_value': p_value\n",
        "  })\n",
        "\n",
        "  # Save results to CSV\n",
        "  csv_filename = f\"{name_without_extension}_evaluation_results.csv\"\n",
        "  result_df.to_csv(csv_filename, index=False)"
      ]
    },
    {
      "cell_type": "markdown",
      "metadata": {
        "id": "_mNooYySlqWY"
      },
      "source": [
        "tests"
      ]
    },
    {
      "cell_type": "code",
      "execution_count": 6,
      "metadata": {
        "id": "dGY7fTbZlzqE"
      },
      "outputs": [],
      "source": [
        "api = 'put yout api key here'"
      ]
    },
    {
      "cell_type": "code",
      "execution_count": 7,
      "metadata": {
        "id": "ICJtfGzRlrhW"
      },
      "outputs": [],
      "source": [
        "path_without_abouts = '/content/all_test_users.csv' # or cheange to the path of the file without abouts\n",
        "path_with_abouts = '/content/test_users_with_about.csv' # or cheange to the path of the file with abouts"
      ]
    },
    {
      "cell_type": "markdown",
      "metadata": {
        "id": "7hw0OXuMlLor"
      },
      "source": [
        "data without abouts:"
      ]
    },
    {
      "cell_type": "code",
      "execution_count": null,
      "metadata": {
        "collapsed": true,
        "id": "iV6oRjxllHDA"
      },
      "outputs": [],
      "source": [
        "Evaluation(path_without_abouts, api, promt_creating_geminai_with_skills, promt_creating_geminai_no_skills, comperehension_promt)"
      ]
    },
    {
      "cell_type": "markdown",
      "metadata": {
        "id": "8Rw5kiy0lS2d"
      },
      "source": [
        "data with abouts:"
      ]
    },
    {
      "cell_type": "code",
      "execution_count": null,
      "metadata": {
        "collapsed": true,
        "id": "zHzmqvONlQpJ"
      },
      "outputs": [],
      "source": [
        "Evaluation(path_with_abouts, api, promt_creating_geminai_with_skills, promt_creating_geminai_no_skills, comperehension_promt)"
      ]
    },
    {
      "cell_type": "markdown",
      "metadata": {
        "id": "G0Pw6qZLlV3e"
      },
      "source": [
        "simple evaluation without abouts"
      ]
    },
    {
      "cell_type": "code",
      "execution_count": 9,
      "metadata": {
        "colab": {
          "base_uri": "https://localhost:8080/",
          "height": 1000
        },
        "collapsed": true,
        "id": "syD7OYNhlczE",
        "outputId": "d99c992b-d53d-455a-8310-3c59419cd468"
      },
      "outputs": [
        {
          "name": "stdout",
          "output_type": "stream",
          "text": [
            "round 0 : score with skills: 67 score without skills 81.14285714285714\n",
            "round 1 : score with skills: 88 score without skills 70.92391304347827\n",
            "round 2 : score with skills: 89 score without skills 68.25842696629213\n",
            "round 3 : score with skills: 91 score without skills 73.31460674157303\n",
            "round 4 : score with skills: 92 score without skills 85.88764044943821\n",
            "round 5 : score with skills: 92 score without skills 81.92045454545455\n",
            "round 6 : score with skills: 92 score without skills 89.06024096385543\n",
            "round 7 : score with skills: 83 score without skills 70.19318181818181\n",
            "round 8 : score with skills: 86 score without skills 65.1219512195122\n",
            "round 9 : score with skills: 76 score without skills 69.43956043956044\n",
            "round 10 : score with skills: 82 score without skills 76.34482758620689\n",
            "round 11 : score with skills: 82 score without skills 54.60674157303371\n",
            "round 12 : score with skills: 88 score without skills 45.45054945054945\n",
            "round 13 : score with skills: 76 score without skills 44.01098901098901\n",
            "round 14 : score with skills: 84 score without skills 62.40229885057471\n",
            "round 15 : score with skills: 83 score without skills 72.47191011235955\n",
            "round 16 : score with skills: 88 score without skills 68.73563218390805\n",
            "round 17 : score with skills: 79 score without skills 56.0\n",
            "round 18 : score with skills: 91 score without skills 82.0\n",
            "round 19 : score with skills: 82 score without skills 62.0\n",
            "round 20 : score with skills: 68 score without skills 50.8314606741573\n",
            "round 21 : score with skills: 83 score without skills 64.61797752808988\n",
            "round 22 : score with skills: 91 score without skills 86.4578313253012\n",
            "round 23 : score with skills: 89 score without skills 78.561797752809\n",
            "round 24 : score with skills: 86 score without skills 74.16666666666667\n",
            "round 25 : score with skills: 91 score without skills 78.40740740740742\n",
            "round 26 : score with skills: 84 score without skills 73.29411764705883\n",
            "round 27 : score with skills: 79 score without skills 66.75\n",
            "round 28 : score with skills: 78 score without skills 75.13636363636364\n",
            "round 29 : score with skills: 78 score without skills 78.0\n",
            "round 30 : score with skills: 84 score without skills 48.9010989010989\n",
            "round 31 : score with skills: 86 score without skills 42.340909090909086\n",
            "round 32 : score with skills: 83 score without skills 40.43956043956044\n",
            "round 33 : score with skills: 92 score without skills 76.72413793103448\n",
            "round 34 : score with skills: 77 score without skills 83.51648351648352\n",
            "round 35 : score with skills: 75 score without skills 63.847826086956516\n",
            "round 36 : score with skills: 82 score without skills 59.65934065934066\n",
            "round 37 : score with skills: 88 score without skills 72.63218390804597\n",
            "round 38 : score with skills: 77 score without skills 76.68539325842697\n",
            "round 39 : score with skills: 83 score without skills 79.79310344827586\n",
            "round 40 : score with skills: 87 score without skills 83.88505747126436\n",
            "round 41 : score with skills: 88 score without skills 76.68539325842697\n",
            "round 42 : score with skills: 85 score without skills 71.0\n",
            "round 43 : score with skills: 87 score without skills 78.77011494252874\n",
            "round 44 : score with skills: 88 score without skills 78.20224719101122\n",
            "round 45 : score with skills: 88 score without skills 88.0\n",
            "round 46 : score with skills: 89 score without skills 108.02272727272728\n",
            "round 47 : score with skills: 82 score without skills 64.81521739130434\n",
            "round 48 : score with skills: 82 score without skills 75.0\n",
            "round 49 : score with skills: 78 score without skills 54.218390804597696\n",
            "round 50 : score with skills: 77 score without skills 81.5056179775281\n",
            "round 51 : score with skills: 86 score without skills 74.67816091954023\n",
            "round 52 : score with skills: 92 score without skills 86.97727272727273\n",
            "round 53 : score with skills: 80 score without skills 87.0\n",
            "round 54 : score with skills: 89 score without skills 89.0\n",
            "round 55 : score with skills: 91 score without skills 59.747368421052634\n",
            "round 56 : score with skills: 92 score without skills 89.0\n",
            "round 57 : score with skills: 75 score without skills 72.81818181818183\n",
            "round 58 : score with skills: 78 score without skills 55.141304347826086\n",
            "round 59 : score with skills: 82 score without skills 56.264367816091955\n",
            "round 60 : score with skills: 82 score without skills 80.62921348314607\n",
            "round 61 : score with skills: 78 score without skills 54.33684210526316\n",
            "round 62 : score with skills: 78 score without skills 75.26966292134831\n",
            "round 63 : score with skills: 78 score without skills 68.2159090909091\n",
            "round 64 : score with skills: 81 score without skills 65.01098901098901\n",
            "round 65 : score with skills: 86 score without skills 81.86046511627907\n",
            "round 66 : score with skills: 79 score without skills 68.50561797752809\n",
            "round 67 : score with skills: 82 score without skills 69.57303370786516\n",
            "round 68 : score with skills: 95 score without skills 87.98863636363636\n",
            "round 69 : score with skills: 92 score without skills 31.72941176470588\n",
            "round 70 : score with skills: 86 score without skills 80.62921348314607\n",
            "round 71 : score with skills: 89 score without skills 76.13483146067415\n",
            "round 72 : score with skills: 96 score without skills 98.20689655172413\n",
            "round 73 : score with skills: 85 score without skills 57.0\n",
            "round 74 : score with skills: 75 score without skills 44.966292134831455\n",
            "round 75 : score with skills: 80 score without skills 43.63636363636363\n",
            "round 76 : score with skills: 91 score without skills 84.05555555555556\n",
            "round 77 : score with skills: 78 score without skills 66.5054945054945\n",
            "round 78 : score with skills: 84 score without skills 77.0\n",
            "round 79 : score with skills: 86 score without skills 78.0\n",
            "round 80 : score with skills: 97 score without skills 84.59770114942529\n",
            "round 81 : score with skills: 88 score without skills 76.0\n",
            "round 82 : score with skills: 80 score without skills 66.3157894736842\n",
            "round 83 : score with skills: 81 score without skills 44.50000000000001\n",
            "round 84 : score with skills: 76 score without skills 67.48314606741573\n",
            "round 85 : score with skills: 84 score without skills 54.0\n",
            "round 86 : score with skills: 91 score without skills 52.74074074074074\n",
            "round 87 : score with skills: 95 score without skills 84.95454545454547\n",
            "round 88 : score with skills: 83 score without skills 46.0\n",
            "round 89 : score with skills: 83 score without skills 57.95348837209303\n",
            "average wins with skills: 0.9\n",
            "Wilcoxon test statistic: 167.0\n",
            "P-value: 1.4245747074711643e-13\n",
            "There is a significant difference between the two lists (reject H0).\n"
          ]
        }
      ],
      "source": [
        "Evaluation(path_without_abouts, api, promt_creating_geminai_with_skills, simple_promt_creating_geminai_no_skills, comperehension_promt)"
      ]
    },
    {
      "cell_type": "markdown",
      "metadata": {
        "id": "7ZEYtJ42lcVK"
      },
      "source": [
        "simple evaluation with abouts"
      ]
    },
    {
      "cell_type": "code",
      "execution_count": null,
      "metadata": {
        "id": "gGzDzBAXlhDk"
      },
      "outputs": [],
      "source": [
        "Evaluation(path_with_abouts, api, promt_creating_geminai_with_skills, simple_promt_creating_geminai_no_skills, comperehension_promt)"
      ]
    },
    {
      "cell_type": "markdown",
      "metadata": {
        "id": "J5aRpoecRS2M"
      },
      "source": [
        "check previous about to generated ones"
      ]
    },
    {
      "cell_type": "code",
      "execution_count": 8,
      "metadata": {
        "colab": {
          "base_uri": "https://localhost:8080/",
          "height": 1000
        },
        "id": "qkSFN7U0Rcg9",
        "outputId": "0c55e3e1-dfec-4966-9457-c09b1a7da287"
      },
      "outputs": [
        {
          "name": "stdout",
          "output_type": "stream",
          "text": [
            "round 0 : score with skills: 90 score without skills 26.597701149425287\n",
            "round 1 : score with skills: 92 score without skills 59.41463414634147\n",
            "round 2 : score with skills: 88 score without skills 43.90909090909091\n",
            "round 3 : score with skills: 78 score without skills 71.0\n",
            "round 4 : score with skills: 98 score without skills 62.022471910112365\n",
            "round 5 : score with skills: 90 score without skills 40.078651685393254\n",
            "round 6 : score with skills: 94 score without skills 54.38202247191011\n",
            "round 7 : score with skills: 89 score without skills 65.0\n",
            "round 8 : score with skills: 85 score without skills 78.0\n",
            "round 9 : score with skills: 72 score without skills 47.752808988764045\n",
            "round 10 : score with skills: 93 score without skills 75.14606741573033\n",
            "round 11 : score with skills: 87 score without skills 46.0\n",
            "round 12 : score with skills: 91 score without skills 57.85\n",
            "round 13 : score with skills: 90 score without skills 37.12643678160919\n",
            "round 14 : score with skills: 79 score without skills 58.63636363636364\n",
            "round 15 : score with skills: 88 score without skills 70.79545454545455\n",
            "round 16 : score with skills: 91 score without skills 42.0\n",
            "round 17 : score with skills: 95 score without skills 75.51724137931035\n",
            "round 18 : score with skills: 88 score without skills 46.46590909090909\n",
            "round 19 : score with skills: 91 score without skills 61.47422680412371\n",
            "round 20 : score with skills: 93 score without skills 72.17977528089888\n",
            "round 21 : score with skills: 93 score without skills 77.74712643678161\n",
            "round 22 : score with skills: 90 score without skills 57.348314606741575\n",
            "round 23 : score with skills: 93 score without skills 78.0\n",
            "round 24 : score with skills: 89 score without skills 53.764044943820224\n",
            "round 25 : score with skills: 90 score without skills 55.63218390804598\n",
            "round 26 : score with skills: 92 score without skills 61.0\n",
            "round 27 : score with skills: 92 score without skills 84.78048780487805\n",
            "round 28 : score with skills: 90 score without skills 47.0\n",
            "round 29 : score with skills: 95 score without skills 90.24691358024691\n",
            "round 30 : score with skills: 90 score without skills 50.42045454545455\n",
            "round 31 : score with skills: 88 score without skills 34.97727272727273\n",
            "round 32 : score with skills: 95 score without skills 82.86206896551724\n",
            "round 33 : score with skills: 90 score without skills 75.0\n",
            "round 34 : score with skills: 95 score without skills 90.04705882352941\n",
            "round 35 : score with skills: 92 score without skills 48.235955056179776\n",
            "round 36 : score with skills: 89 score without skills 46.0\n",
            "round 37 : score with skills: 89 score without skills 41.0\n",
            "round 38 : score with skills: 88 score without skills 60.168539325842694\n",
            "round 39 : score with skills: 88 score without skills 85.72727272727272\n",
            "round 40 : score with skills: 92 score without skills 77.0\n",
            "round 41 : score with skills: 88 score without skills 66.0\n",
            "round 42 : score with skills: 91 score without skills 44.04494382022472\n",
            "round 43 : score with skills: 92 score without skills 71.0\n",
            "round 44 : score with skills: 89 score without skills 49.0\n",
            "round 45 : score with skills: 93 score without skills 36.41379310344828\n",
            "round 46 : score with skills: 83 score without skills 28.86206896551724\n",
            "round 47 : score with skills: 88 score without skills 67.51724137931035\n",
            "round 48 : score with skills: 92 score without skills 55.955056179775276\n",
            "round 49 : score with skills: 92 score without skills 69.1685393258427\n",
            "round 50 : score with skills: 84 score without skills 56.69662921348314\n",
            "round 51 : score with skills: 90 score without skills 57.65517241379311\n",
            "round 52 : score with skills: 85 score without skills 49.43820224719101\n",
            "round 53 : score with skills: 95 score without skills 65.44186046511628\n",
            "round 54 : score with skills: 91 score without skills 52.2875\n",
            "round 55 : score with skills: 88 score without skills 50.266666666666666\n",
            "round 56 : score with skills: 92 score without skills 63.98876404494382\n",
            "round 57 : score with skills: 96 score without skills 76.34482758620689\n",
            "round 58 : score with skills: 92 score without skills 40.45454545454546\n",
            "round 59 : score with skills: 94 score without skills 56.0\n",
            "round 60 : score with skills: 81 score without skills 34.58426966292135\n",
            "round 61 : score with skills: 88 score without skills 35.37931034482759\n",
            "round 62 : score with skills: 92 score without skills 62.0\n",
            "round 63 : score with skills: 88 score without skills 15.17241379310345\n",
            "round 64 : score with skills: 91 score without skills 52.0\n",
            "round 65 : score with skills: 92 score without skills 30.0\n",
            "round 66 : score with skills: 91 score without skills 72.0\n",
            "round 67 : score with skills: 87 score without skills 66.46067415730337\n",
            "round 68 : score with skills: 91 score without skills 16.0\n",
            "round 69 : score with skills: 95 score without skills 36.418604651162795\n",
            "round 70 : score with skills: 89 score without skills 24.238636363636363\n",
            "round 71 : score with skills: 89 score without skills 36.449999999999996\n",
            "round 72 : score with skills: 92 score without skills 45.9438202247191\n",
            "round 73 : score with skills: 94 score without skills 71.77499999999999\n",
            "round 74 : score with skills: 89 score without skills 38.0\n",
            "round 75 : score with skills: 78 score without skills 57.52808988764045\n",
            "round 76 : score with skills: 86 score without skills 14.160919540229887\n",
            "round 77 : score with skills: 86 score without skills 69.79310344827587\n",
            "round 78 : score with skills: 91 score without skills 26.0\n",
            "round 79 : score with skills: 94 score without skills 75.06024096385542\n",
            "round 80 : score with skills: 93 score without skills 65.47126436781609\n",
            "round 81 : score with skills: 91 score without skills 53.400000000000006\n",
            "average wins with skills: 1.0\n",
            "Wilcoxon test statistic: 0.0\n",
            "P-value: 3.662046089359831e-15\n",
            "There is a significant difference between the two lists (reject H0).\n"
          ]
        }
      ],
      "source": [
        "Evaluation(path_with_abouts, api, promt_creating_geminai_with_skills, None, comperehension_promt, True)"
      ]
    }
  ],
  "metadata": {
    "colab": {
      "provenance": []
    },
    "kernelspec": {
      "display_name": "Python 3",
      "name": "python3"
    },
    "language_info": {
      "name": "python"
    }
  },
  "nbformat": 4,
  "nbformat_minor": 0
}
